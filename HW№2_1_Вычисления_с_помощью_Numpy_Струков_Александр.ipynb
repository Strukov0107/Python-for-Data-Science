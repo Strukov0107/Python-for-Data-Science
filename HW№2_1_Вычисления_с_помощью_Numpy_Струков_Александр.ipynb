{
  "nbformat": 4,
  "nbformat_minor": 0,
  "metadata": {
    "colab": {
      "name": "HW№2_1_Вычисления с помощью Numpy_Струков Александр.ipynb",
      "provenance": [],
      "collapsed_sections": []
    },
    "kernelspec": {
      "name": "python3",
      "display_name": "Python 3"
    },
    "language_info": {
      "name": "python"
    }
  },
  "cells": [
    {
      "cell_type": "markdown",
      "source": [
        "*Практические* задания к уроку №2\n",
        "\n",
        "###Вычисления с помощью Numpy\n",
        "\n",
        "\n",
        "\n",
        "\n",
        "\n"
      ],
      "metadata": {
        "id": "BM05wT4Cbepv"
      }
    },
    {
      "cell_type": "markdown",
      "source": [
        "Задание 1\n",
        "\n",
        "Импортируйте библиотеку Numpy и дайте ей псевдоним np.\n",
        "Создайте массив Numpy под названием “а” размером 5x2, \n",
        "то есть состоящий из 5 строк и 2 столбцов. \n",
        "Первый столбец должен содержать числа 1, 2, 3, 3, 1, \n",
        "а второй - числа 6, 8, 11, 10, 7. \n",
        "Будем считать, что каждый столбец - это признак, а строка - наблюдение. \n",
        "Затем найдите среднее значение по каждому признаку, \n",
        "используя метод mean массива Numpy. \n",
        "Результат запишите в массив mean_a, в нем должно быть 2 элемента."
      ],
      "metadata": {
        "id": "KvtejOEKOI87"
      }
    },
    {
      "cell_type": "code",
      "source": [
        "import numpy as np\n",
        "\n",
        "a = np.array([[1, 6],\n",
        "[2, 8],\n",
        "[3, 11],\n",
        "[3, 10],\n",
        "[1, 7]])\n",
        "\n",
        "print(a)\n",
        "mean_a = a.mean(axis=0)\n",
        "print(\"Средние значения столбцов: {}\".format(mean_a))"
      ],
      "metadata": {
        "colab": {
          "base_uri": "https://localhost:8080/"
        },
        "id": "AiJnrQL0Srxn",
        "outputId": "ddf33fc8-c186-47f4-f3b4-b2a7c9a9df36"
      },
      "execution_count": null,
      "outputs": [
        {
          "output_type": "stream",
          "name": "stdout",
          "text": [
            "[[ 1  6]\n",
            " [ 2  8]\n",
            " [ 3 11]\n",
            " [ 3 10]\n",
            " [ 1  7]]\n",
            "Средние значения столбцов: [2.  8.4]\n"
          ]
        }
      ]
    },
    {
      "cell_type": "markdown",
      "source": [
        "Задание 2\n",
        "\n",
        "Вычислите массив a_centered, отняв от значений массива “а” средние значения соответствующих признаков, \n",
        "содержащиеся в массиве mean_a. \n",
        "Вычисление должно производиться в одно действие. \n",
        "Получившийся массив должен иметь размер 5x2.\n"
      ],
      "metadata": {
        "id": "IpBhS-8aON9T"
      }
    },
    {
      "cell_type": "code",
      "source": [
        "a_centered = a - mean_a\n",
        "print (a_centered)"
      ],
      "metadata": {
        "colab": {
          "base_uri": "https://localhost:8080/"
        },
        "id": "VTJ6IBVvcIwT",
        "outputId": "b2a2c8d7-ef86-45ce-c3b7-79a024fef9a5"
      },
      "execution_count": null,
      "outputs": [
        {
          "output_type": "stream",
          "name": "stdout",
          "text": [
            "[[-1.  -2.4]\n",
            " [ 0.  -0.4]\n",
            " [ 1.   2.6]\n",
            " [ 1.   1.6]\n",
            " [-1.  -1.4]]\n"
          ]
        }
      ]
    },
    {
      "cell_type": "markdown",
      "source": [
        "Задание 3\n",
        "\n",
        "Найдите скалярное произведение столбцов массива a_centered. \n",
        " результате должна получиться величина a_centered_sp. \n",
        " Затем поделите a_centered_sp на N-1, где N - число наблюдений.\n"
      ],
      "metadata": {
        "id": "RR8XdslCOSVB"
      }
    },
    {
      "cell_type": "code",
      "source": [
        "b = a_centered[:5, 0]\n",
        "\n",
        "c = a_centered[:5, 1]\n",
        "\n",
        "a_centered_sp = np.dot(b,c)\n",
        "print(\"Скалярное произведение столбцов: {}\".format(a_centered_sp))\n",
        "\n",
        "num_rows, num_cols = a.shape\n",
        "print(\"Количество строк:  \", num_rows)\n",
        "x = a_centered_sp/(num_rows - 1)\n",
        "\n",
        "print (\"Результат вычислений:  \", x)"
      ],
      "metadata": {
        "colab": {
          "base_uri": "https://localhost:8080/"
        },
        "id": "rKnW3HdweS4t",
        "outputId": "fccc522e-3ed4-439a-c26e-b1c3ceeb2320"
      },
      "execution_count": null,
      "outputs": [
        {
          "output_type": "stream",
          "name": "stdout",
          "text": [
            "Скалярное произведение столбцов: 8.0\n",
            "Количество строк:   5\n",
            "Результат вычислений:   2.0\n"
          ]
        }
      ]
    },
    {
      "cell_type": "markdown",
      "source": [
        "Задание 4**\n",
        "\n",
        "Число, которое мы получили в конце задания 3 является ковариацией двух признаков, \n",
        "содержащихся в массиве “а”. \n",
        "\n",
        "В задании 4 мы делили сумму произведений центрированных признаков на N-1, \n",
        "а не на N, поэтому полученная нами величина является несмещенной оценкой ковариации.\n",
        "\n",
        "В этом задании проверьте получившееся число, вычислив ковариацию еще одним способом - с помощью функции np.cov. В качестве аргумента m функция np.cov должна принимать транспонированный массив “a”. В получившейся ковариационной матрице (массив Numpy размером 2x2) искомое значение ковариации будет равно элементу в строке с индексом 0 и столбце с индексом 1.\n"
      ],
      "metadata": {
        "id": "iMRrQ9ZFOVib"
      }
    },
    {
      "cell_type": "code",
      "source": [
        "a_t = a.T\n",
        "print(\"транспонированная матрица: \")\n",
        "print(a_t)\n",
        "\n",
        "x = np.cov(a_t)\n",
        "print(\"матрица ковариации: \")\n",
        "print(x)"
      ],
      "metadata": {
        "colab": {
          "base_uri": "https://localhost:8080/"
        },
        "id": "pu94vqrSbcTI",
        "outputId": "107019de-647c-4eb3-e862-2be78872515e"
      },
      "execution_count": null,
      "outputs": [
        {
          "output_type": "stream",
          "name": "stdout",
          "text": [
            "транспонированная матрица: \n",
            "[[ 1  2  3  3  1]\n",
            " [ 6  8 11 10  7]]\n",
            "матрица ковариации: \n",
            "[[1.  2. ]\n",
            " [2.  4.3]]\n"
          ]
        }
      ]
    },
    {
      "cell_type": "markdown",
      "source": [
        "###Тема “Работа с данными в Pandas”"
      ],
      "metadata": {
        "id": "K5PRHmk_JLMz"
      }
    },
    {
      "cell_type": "markdown",
      "source": [
        "Задание 1\n",
        "\n",
        "\n",
        "Импортируйте библиотеку Pandas и дайте ей псевдоним pd. \n",
        "Создайте датафрейм authors со столбцами author_id и author_name, \n",
        "в которых соответственно содержатся данные: \n",
        "\n",
        "[1, 2, 3] и ['Тургенев', 'Чехов', 'Островский'].\n",
        "\n",
        "Затем создайте датафрейм book cо столбцами author_id, book_title и price, \n",
        "в которых соответственно содержатся данные: \n",
        " \n",
        "[1, 1, 1, 2, 2, 3, 3],\n",
        "\n",
        "['Отцы и дети', 'Рудин', 'Дворянское гнездо', 'Толстый и тонкий', 'Дама с собачкой', 'Гроза', 'Таланты и поклонники'],\n",
        "\n",
        "[450, 300, 350, 500, 450, 370, 290].\n"
      ],
      "metadata": {
        "id": "Ec6iV5P_JaPE"
      }
    },
    {
      "cell_type": "code",
      "source": [
        "import pandas as pd\n",
        "\n",
        "a = {\n",
        "    \"author_id\": [1, 2, 3],\n",
        "    \"author_name\": [\"Тургенев\", \"Чехов\", \"Островский\"]\n",
        "}\n",
        "\n",
        "authors = pd.DataFrame(a)\n",
        "\n",
        "print (authors)\n",
        "\n",
        "\n",
        "a = {\n",
        "    \"author_id\": [1, 1, 1, 2, 2, 3, 3],\n",
        "    \"book_title\": [\"Отцы и дети\", \"Рудин\", \"Дворянское гнездо\", \"Толстый и тонкий\", \"Дама с собачкой\", \"Гроза\", \"Таланты и поклонники\"],\n",
        "    \"price\": [\"450\", \"300\", \"350\", \"500\", \"450\", \"370\", \"290\"]\n",
        "}\n",
        "\n",
        "book = pd.DataFrame(a)\n",
        "\n",
        "print (book)"
      ],
      "metadata": {
        "colab": {
          "base_uri": "https://localhost:8080/"
        },
        "id": "1RFEhXjzPDC-",
        "outputId": "282f4366-33ce-4177-a2c4-9815fc0aebca"
      },
      "execution_count": null,
      "outputs": [
        {
          "output_type": "stream",
          "name": "stdout",
          "text": [
            "   author_id author_name\n",
            "0          1    Тургенев\n",
            "1          2       Чехов\n",
            "2          3  Островский\n",
            "   author_id            book_title price\n",
            "0          1           Отцы и дети   450\n",
            "1          1                 Рудин   300\n",
            "2          1     Дворянское гнездо   350\n",
            "3          2      Толстый и тонкий   500\n",
            "4          2       Дама с собачкой   450\n",
            "5          3                 Гроза   370\n",
            "6          3  Таланты и поклонники   290\n"
          ]
        }
      ]
    },
    {
      "cell_type": "markdown",
      "source": [
        "Задание 2\n",
        "\n",
        "Получите датафрейм authors_price, \n",
        "соединив датафреймы authors и books по полю author_id.\n"
      ],
      "metadata": {
        "id": "exgYgw3xJeIG"
      }
    },
    {
      "cell_type": "code",
      "source": [
        "authors_price = pd.merge(authors, book, on='author_id', how='inner')\n",
        "\n",
        "print (authors_price)\n"
      ],
      "metadata": {
        "colab": {
          "base_uri": "https://localhost:8080/"
        },
        "id": "uLFtqo44QjBQ",
        "outputId": "5b6980d0-3cea-4ca5-fc91-8f0a72f7d57c"
      },
      "execution_count": null,
      "outputs": [
        {
          "output_type": "stream",
          "name": "stdout",
          "text": [
            "   author_id author_name            book_title price\n",
            "0          1    Тургенев           Отцы и дети   450\n",
            "1          1    Тургенев                 Рудин   300\n",
            "2          1    Тургенев     Дворянское гнездо   350\n",
            "3          2       Чехов      Толстый и тонкий   500\n",
            "4          2       Чехов       Дама с собачкой   450\n",
            "5          3  Островский                 Гроза   370\n",
            "6          3  Островский  Таланты и поклонники   290\n"
          ]
        }
      ]
    },
    {
      "cell_type": "markdown",
      "source": [
        "Задание 3\n",
        "\n",
        "Создайте датафрейм top5, \n",
        "в котором содержатся строки из authors_price с пятью самыми дорогими книгами.\n"
      ],
      "metadata": {
        "id": "VmKpuSEqJhw_"
      }
    },
    {
      "cell_type": "code",
      "source": [
        "top5 = authors_price.sort_values(by='price', ascending = False).reset_index(drop=True)\n",
        "\n",
        "top5 = top5.drop(labels = [5,6],axis = 0)\n",
        "\n",
        "print(top5)"
      ],
      "metadata": {
        "colab": {
          "base_uri": "https://localhost:8080/"
        },
        "id": "5LFkccdNZIpN",
        "outputId": "a62fa28d-4def-493f-9ca0-32dadfd25240"
      },
      "execution_count": null,
      "outputs": [
        {
          "output_type": "stream",
          "name": "stdout",
          "text": [
            "   author_id author_name         book_title price\n",
            "0          2       Чехов   Толстый и тонкий   500\n",
            "1          1    Тургенев        Отцы и дети   450\n",
            "2          2       Чехов    Дама с собачкой   450\n",
            "3          3  Островский              Гроза   370\n",
            "4          1    Тургенев  Дворянское гнездо   350\n"
          ]
        }
      ]
    },
    {
      "cell_type": "markdown",
      "source": [
        "*Задание* 4\n",
        "\n",
        "Создайте датафрейм authors_stat на основе информации из authors_price. \n",
        "\n",
        "В датафрейме authors_stat должны быть четыре столбца:\n",
        "author_name, min_price, max_price и mean_price,\n",
        "\n",
        "в которых должны содержаться соответственно имя автора, минимальная, максимальная и средняя цена на книги этого автора.\n"
      ],
      "metadata": {
        "id": "kLk3oyRzJkTB"
      }
    },
    {
      "cell_type": "markdown",
      "source": [
        "Задание 5**\n",
        "\n",
        "Создайте новый столбец в датафрейме authors_price под названием cover, \n",
        "в нем будут располагаться данные о том, \n",
        "какая обложка у данной книги - твердая или мягкая. \n",
        "\n",
        "В этот столбец поместите данные из следующего списка:\n",
        "['твердая', 'мягкая', 'мягкая', 'твердая', 'твердая', 'мягкая', 'мягкая'].\n",
        "\n",
        "Просмотрите документацию по функции pd.pivot_table с помощью вопросительного знака.\n",
        "Для каждого автора посчитайте суммарную стоимость книг в твердой и мягкой обложке. \n",
        "Используйте для этого функцию pd.pivot_table. \n",
        "При этом столбцы должны называться \"твердая\" и \"мягкая\", \n",
        "а индексами должны быть фамилии авторов. \n",
        "Пропущенные значения стоимостей заполните нулями, \n",
        "\n",
        "Назовите полученный датасет book_info и сохраните его в формат pickle \n",
        "под названием \"book_info.pkl\". \n",
        "Затем загрузите из этого файла датафрейм и назовите его book_info2. Удостоверьтесь, что датафреймы book_info и book_info2 идентичны.\n"
      ],
      "metadata": {
        "id": "hfo4wsvYJpxX"
      }
    }
  ]
}